{
 "cells": [
  {
   "cell_type": "markdown",
   "metadata": {},
   "source": [
    "#### Groud Truth"
   ]
  },
  {
   "cell_type": "code",
   "execution_count": null,
   "metadata": {},
   "outputs": [],
   "source": [
    "import sys\n",
    "import os\n",
    "\n",
    "# Add the parent directory of `viewer` to the system path\n",
    "sys.path.append(os.path.abspath(os.path.join(\"../..\")))\n",
    "\n",
    "from viewer.pdb_view import show_pdb_from_file\n",
    "\n",
    "# Display the Trp-cage mini-protein (1L2Y)\n",
    "show_pdb_from_file(\"1L2Y.pdb\")"
   ]
  },
  {
   "cell_type": "markdown",
   "metadata": {},
   "source": [
    "#### Unfolded Version"
   ]
  },
  {
   "cell_type": "code",
   "execution_count": null,
   "metadata": {},
   "outputs": [],
   "source": [
    "show_pdb_from_file(\"1L2Y_unfold.pdb\")"
   ]
  },
  {
   "cell_type": "markdown",
   "metadata": {},
   "source": [
    "#### Simulate"
   ]
  },
  {
   "cell_type": "code",
   "execution_count": null,
   "metadata": {},
   "outputs": [],
   "source": [
    "# Check if OpenMM is supported with GPU\n",
    "from openmm import Platform\n",
    "print([Platform.getPlatform(i).getName() for i in range(Platform.getNumPlatforms())])"
   ]
  },
  {
   "cell_type": "code",
   "execution_count": null,
   "metadata": {},
   "outputs": [],
   "source": [
    "from openmm.app import PDBFile, ForceField, Simulation, Modeller, StateDataReporter, DCDReporter, HBonds, PME\n",
    "from openmm import LangevinIntegrator, Platform\n",
    "from openmm.unit import kelvin, picoseconds, nanometers, picosecond\n",
    "import sys\n",
    "\n",
    "\n",
    "def run_simulation(pdb_file):\n",
    "    # Load the PDB file\n",
    "    pdb = PDBFile(pdb_file)\n",
    "\n",
    "    # Use the AMBER force field\n",
    "    forcefield = ForceField('amber14-all.xml', 'amber14/tip3p.xml')\n",
    "    \n",
    "    # Create a system with explicit solvent (water)\n",
    "    modeller = Modeller(pdb.topology, pdb.positions)\n",
    "    modeller.addSolvent(forcefield, model='tip3p', padding=1.0*nanometers)\n",
    "\n",
    "    # Create the system\n",
    "    system = forcefield.createSystem(\n",
    "        modeller.topology, \n",
    "        nonbondedMethod=PME, \n",
    "        nonbondedCutoff=1.0*nanometers, \n",
    "        constraints=HBonds\n",
    "    )\n",
    "\n",
    "    # Integrator setup (Langevin dynamics)\n",
    "    integrator = LangevinIntegrator(300*kelvin, 1/picosecond, 0.004*picoseconds)\n",
    "\n",
    "    # Platform selection (CUDA for GPU)\n",
    "    platform = Platform.getPlatformByName('CPU')\n",
    "\n",
    "    # Simulation setup\n",
    "    simulation = Simulation(modeller.topology, system, integrator, platform)\n",
    "    simulation.context.setPositions(modeller.positions)\n",
    "\n",
    "    # Save the topology to a PDB file\n",
    "    with open('topology.pdb', 'w') as f:\n",
    "        PDBFile.writeFile(modeller.topology, modeller.positions, f)\n",
    "\n",
    "    # Minimize energy\n",
    "    print('Minimizing...')\n",
    "    simulation.minimizeEnergy()\n",
    "\n",
    "    # Set up reporters to record simulation data\n",
    "    simulation.reporters.append(StateDataReporter(sys.stdout, 1000, step=True, potentialEnergy=True, temperature=True))\n",
    "    simulation.reporters.append(DCDReporter('trajectory.dcd', 1000))\n",
    "\n",
    "    # Run the simulation\n",
    "    print('Running Simulation...')\n",
    "    simulation.step(20000)  # Number of steps to run, adjust as needed\n",
    "\n",
    "    print('Simulation Complete!')\n",
    "    \n",
    "run_simulation(\"1L2Y_unfold.pdb\")"
   ]
  },
  {
   "cell_type": "code",
   "execution_count": null,
   "metadata": {},
   "outputs": [],
   "source": [
    "import os\n",
    "import mdtraj as md\n",
    "\n",
    "\n",
    "def visualize_md():\n",
    "    os.makedirs(\"md_results\", exist_ok=True)\n",
    "    \n",
    "    # Load the trajectory\n",
    "    traj = md.load('trajectory.dcd', top=\"topology.pdb\")\n",
    "\n",
    "    for i in range(traj.n_frames):\n",
    "        # Save each frame to a PDB file\n",
    "        frame = traj[i]\n",
    "    \n",
    "        # Slice the frame to include only non-water atoms\n",
    "        non_water_ion_atoms = frame.topology.select('not water and not (name Na or name Cl or resname NA or resname CL)')\n",
    "        frame_removed = frame.atom_slice(non_water_ion_atoms)\n",
    "        \n",
    "        # Save the frame to a PDB file\n",
    "        frame_removed.save_pdb(f\"md_results/{i}.pdb\")\n",
    "\n",
    "visualize_md()"
   ]
  }
 ],
 "metadata": {
  "kernelspec": {
   "display_name": "Python 3",
   "language": "python",
   "name": "python3"
  },
  "language_info": {
   "codemirror_mode": {
    "name": "ipython",
    "version": 3
   },
   "file_extension": ".py",
   "mimetype": "text/x-python",
   "name": "python",
   "nbconvert_exporter": "python",
   "pygments_lexer": "ipython3",
   "version": "3.11.9"
  }
 },
 "nbformat": 4,
 "nbformat_minor": 2
}
